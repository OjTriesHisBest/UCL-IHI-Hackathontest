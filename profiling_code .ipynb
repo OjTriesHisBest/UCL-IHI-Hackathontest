{
 "cells": [
  {
   "cell_type": "code",
   "execution_count": 1,
   "id": "7d3f6432",
   "metadata": {},
   "outputs": [],
   "source": [
    "import pandas as pd"
   ]
  },
  {
   "cell_type": "code",
   "execution_count": 2,
   "id": "d6da1e65",
   "metadata": {},
   "outputs": [],
   "source": [
    "import pandas_profiling as pp"
   ]
  },
  {
   "cell_type": "code",
   "execution_count": 3,
   "id": "c9878600",
   "metadata": {},
   "outputs": [
    {
     "name": "stdout",
     "output_type": "stream",
     "text": [
      "1.2.4\n"
     ]
    }
   ],
   "source": [
    "print(pd.__version__)"
   ]
  },
  {
   "cell_type": "code",
   "execution_count": 4,
   "id": "79897fa1",
   "metadata": {},
   "outputs": [
    {
     "name": "stdout",
     "output_type": "stream",
     "text": [
      "3.0.0\n"
     ]
    }
   ],
   "source": [
    "print(pp.__version__)"
   ]
  },
  {
   "cell_type": "code",
   "execution_count": 17,
   "id": "af0115f0",
   "metadata": {},
   "outputs": [
    {
     "data": {
      "text/html": [
       "<div>\n",
       "<style scoped>\n",
       "    .dataframe tbody tr th:only-of-type {\n",
       "        vertical-align: middle;\n",
       "    }\n",
       "\n",
       "    .dataframe tbody tr th {\n",
       "        vertical-align: top;\n",
       "    }\n",
       "\n",
       "    .dataframe thead th {\n",
       "        text-align: right;\n",
       "    }\n",
       "</style>\n",
       "<table border=\"1\" class=\"dataframe\">\n",
       "  <thead>\n",
       "    <tr style=\"text-align: right;\">\n",
       "      <th></th>\n",
       "      <th>State Name</th>\n",
       "      <th>Year</th>\n",
       "      <th>Average Ambient Pressure</th>\n",
       "      <th>Average Ambient Temperature</th>\n",
       "      <th>Carbon monoxide</th>\n",
       "      <th>Nitrogen dioxide (NO2)</th>\n",
       "      <th>Outdoor Temperature</th>\n",
       "      <th>Ozone</th>\n",
       "      <th>PM10 Total 0-10um STP</th>\n",
       "      <th>PM2.5 - Local Conditions</th>\n",
       "      <th>Sulfur dioxide</th>\n",
       "      <th>Suspended particulate (TSP)</th>\n",
       "    </tr>\n",
       "  </thead>\n",
       "  <tbody>\n",
       "    <tr>\n",
       "      <th>0</th>\n",
       "      <td>Alabama</td>\n",
       "      <td>1980</td>\n",
       "      <td>NaN</td>\n",
       "      <td>NaN</td>\n",
       "      <td>1.720953</td>\n",
       "      <td>25.248903</td>\n",
       "      <td>58.588430</td>\n",
       "      <td>0.052117</td>\n",
       "      <td>NaN</td>\n",
       "      <td>NaN</td>\n",
       "      <td>13.408306</td>\n",
       "      <td>59.893026</td>\n",
       "    </tr>\n",
       "    <tr>\n",
       "      <th>1</th>\n",
       "      <td>Alabama</td>\n",
       "      <td>1981</td>\n",
       "      <td>NaN</td>\n",
       "      <td>NaN</td>\n",
       "      <td>1.437457</td>\n",
       "      <td>22.785621</td>\n",
       "      <td>69.111278</td>\n",
       "      <td>0.052247</td>\n",
       "      <td>NaN</td>\n",
       "      <td>NaN</td>\n",
       "      <td>13.124142</td>\n",
       "      <td>61.246849</td>\n",
       "    </tr>\n",
       "    <tr>\n",
       "      <th>2</th>\n",
       "      <td>Alabama</td>\n",
       "      <td>1982</td>\n",
       "      <td>NaN</td>\n",
       "      <td>NaN</td>\n",
       "      <td>1.178577</td>\n",
       "      <td>31.690773</td>\n",
       "      <td>NaN</td>\n",
       "      <td>0.046548</td>\n",
       "      <td>NaN</td>\n",
       "      <td>NaN</td>\n",
       "      <td>10.323130</td>\n",
       "      <td>46.828228</td>\n",
       "    </tr>\n",
       "    <tr>\n",
       "      <th>3</th>\n",
       "      <td>Alabama</td>\n",
       "      <td>1983</td>\n",
       "      <td>NaN</td>\n",
       "      <td>NaN</td>\n",
       "      <td>1.491551</td>\n",
       "      <td>NaN</td>\n",
       "      <td>94.250000</td>\n",
       "      <td>0.049435</td>\n",
       "      <td>NaN</td>\n",
       "      <td>NaN</td>\n",
       "      <td>10.839509</td>\n",
       "      <td>50.291675</td>\n",
       "    </tr>\n",
       "    <tr>\n",
       "      <th>4</th>\n",
       "      <td>Alabama</td>\n",
       "      <td>1984</td>\n",
       "      <td>NaN</td>\n",
       "      <td>NaN</td>\n",
       "      <td>1.379900</td>\n",
       "      <td>NaN</td>\n",
       "      <td>NaN</td>\n",
       "      <td>0.046744</td>\n",
       "      <td>NaN</td>\n",
       "      <td>NaN</td>\n",
       "      <td>8.745030</td>\n",
       "      <td>51.719194</td>\n",
       "    </tr>\n",
       "    <tr>\n",
       "      <th>...</th>\n",
       "      <td>...</td>\n",
       "      <td>...</td>\n",
       "      <td>...</td>\n",
       "      <td>...</td>\n",
       "      <td>...</td>\n",
       "      <td>...</td>\n",
       "      <td>...</td>\n",
       "      <td>...</td>\n",
       "      <td>...</td>\n",
       "      <td>...</td>\n",
       "      <td>...</td>\n",
       "      <td>...</td>\n",
       "    </tr>\n",
       "    <tr>\n",
       "      <th>2309</th>\n",
       "      <td>USA</td>\n",
       "      <td>2017</td>\n",
       "      <td>733.893809</td>\n",
       "      <td>14.837058</td>\n",
       "      <td>0.274242</td>\n",
       "      <td>13.050075</td>\n",
       "      <td>56.353971</td>\n",
       "      <td>0.041785</td>\n",
       "      <td>18.322853</td>\n",
       "      <td>7.981322</td>\n",
       "      <td>1.653729</td>\n",
       "      <td>35.559980</td>\n",
       "    </tr>\n",
       "    <tr>\n",
       "      <th>2310</th>\n",
       "      <td>USA</td>\n",
       "      <td>2018</td>\n",
       "      <td>734.264041</td>\n",
       "      <td>13.824925</td>\n",
       "      <td>0.271137</td>\n",
       "      <td>12.550607</td>\n",
       "      <td>54.977856</td>\n",
       "      <td>0.041197</td>\n",
       "      <td>18.276586</td>\n",
       "      <td>7.966154</td>\n",
       "      <td>1.876002</td>\n",
       "      <td>36.024747</td>\n",
       "    </tr>\n",
       "    <tr>\n",
       "      <th>2311</th>\n",
       "      <td>USA</td>\n",
       "      <td>2019</td>\n",
       "      <td>733.164989</td>\n",
       "      <td>13.592286</td>\n",
       "      <td>0.259108</td>\n",
       "      <td>12.411063</td>\n",
       "      <td>54.453757</td>\n",
       "      <td>0.041427</td>\n",
       "      <td>17.059358</td>\n",
       "      <td>7.118688</td>\n",
       "      <td>1.260607</td>\n",
       "      <td>33.839194</td>\n",
       "    </tr>\n",
       "    <tr>\n",
       "      <th>2312</th>\n",
       "      <td>USA</td>\n",
       "      <td>2020</td>\n",
       "      <td>733.759826</td>\n",
       "      <td>14.388038</td>\n",
       "      <td>0.251398</td>\n",
       "      <td>11.404072</td>\n",
       "      <td>56.218082</td>\n",
       "      <td>0.039680</td>\n",
       "      <td>17.923987</td>\n",
       "      <td>7.889101</td>\n",
       "      <td>1.121396</td>\n",
       "      <td>32.652226</td>\n",
       "    </tr>\n",
       "    <tr>\n",
       "      <th>2313</th>\n",
       "      <td>USA</td>\n",
       "      <td>2021</td>\n",
       "      <td>727.078026</td>\n",
       "      <td>5.217271</td>\n",
       "      <td>0.269309</td>\n",
       "      <td>12.710319</td>\n",
       "      <td>38.150192</td>\n",
       "      <td>0.039360</td>\n",
       "      <td>16.312007</td>\n",
       "      <td>8.117156</td>\n",
       "      <td>1.207327</td>\n",
       "      <td>26.430000</td>\n",
       "    </tr>\n",
       "  </tbody>\n",
       "</table>\n",
       "<p>2314 rows × 12 columns</p>\n",
       "</div>"
      ],
      "text/plain": [
       "     State Name  Year  Average Ambient Pressure  Average Ambient Temperature  \\\n",
       "0       Alabama  1980                       NaN                          NaN   \n",
       "1       Alabama  1981                       NaN                          NaN   \n",
       "2       Alabama  1982                       NaN                          NaN   \n",
       "3       Alabama  1983                       NaN                          NaN   \n",
       "4       Alabama  1984                       NaN                          NaN   \n",
       "...         ...   ...                       ...                          ...   \n",
       "2309        USA  2017                733.893809                    14.837058   \n",
       "2310        USA  2018                734.264041                    13.824925   \n",
       "2311        USA  2019                733.164989                    13.592286   \n",
       "2312        USA  2020                733.759826                    14.388038   \n",
       "2313        USA  2021                727.078026                     5.217271   \n",
       "\n",
       "      Carbon monoxide  Nitrogen dioxide (NO2)  Outdoor Temperature     Ozone  \\\n",
       "0            1.720953               25.248903            58.588430  0.052117   \n",
       "1            1.437457               22.785621            69.111278  0.052247   \n",
       "2            1.178577               31.690773                  NaN  0.046548   \n",
       "3            1.491551                     NaN            94.250000  0.049435   \n",
       "4            1.379900                     NaN                  NaN  0.046744   \n",
       "...               ...                     ...                  ...       ...   \n",
       "2309         0.274242               13.050075            56.353971  0.041785   \n",
       "2310         0.271137               12.550607            54.977856  0.041197   \n",
       "2311         0.259108               12.411063            54.453757  0.041427   \n",
       "2312         0.251398               11.404072            56.218082  0.039680   \n",
       "2313         0.269309               12.710319            38.150192  0.039360   \n",
       "\n",
       "      PM10 Total 0-10um STP  PM2.5 - Local Conditions  Sulfur dioxide  \\\n",
       "0                       NaN                       NaN       13.408306   \n",
       "1                       NaN                       NaN       13.124142   \n",
       "2                       NaN                       NaN       10.323130   \n",
       "3                       NaN                       NaN       10.839509   \n",
       "4                       NaN                       NaN        8.745030   \n",
       "...                     ...                       ...             ...   \n",
       "2309              18.322853                  7.981322        1.653729   \n",
       "2310              18.276586                  7.966154        1.876002   \n",
       "2311              17.059358                  7.118688        1.260607   \n",
       "2312              17.923987                  7.889101        1.121396   \n",
       "2313              16.312007                  8.117156        1.207327   \n",
       "\n",
       "      Suspended particulate (TSP)  \n",
       "0                       59.893026  \n",
       "1                       61.246849  \n",
       "2                       46.828228  \n",
       "3                       50.291675  \n",
       "4                       51.719194  \n",
       "...                           ...  \n",
       "2309                    35.559980  \n",
       "2310                    36.024747  \n",
       "2311                    33.839194  \n",
       "2312                    32.652226  \n",
       "2313                    26.430000  \n",
       "\n",
       "[2314 rows x 12 columns]"
      ]
     },
     "execution_count": 17,
     "metadata": {},
     "output_type": "execute_result"
    }
   ],
   "source": [
    "data = pd.read_csv(r'E:\\nus2021\\UCL Hackathon\\US.csv')\n",
    "data"
   ]
  },
  {
   "cell_type": "code",
   "execution_count": 18,
   "id": "97b708eb",
   "metadata": {},
   "outputs": [
    {
     "data": {
      "application/vnd.jupyter.widget-view+json": {
       "model_id": "487d0b22c71d403192e431194b6b916b",
       "version_major": 2,
       "version_minor": 0
      },
      "text/plain": [
       "Summarize dataset:   0%|          | 0/25 [00:00<?, ?it/s]"
      ]
     },
     "metadata": {},
     "output_type": "display_data"
    },
    {
     "data": {
      "application/vnd.jupyter.widget-view+json": {
       "model_id": "a1810e240a9644cbb4580f66d6cdcedf",
       "version_major": 2,
       "version_minor": 0
      },
      "text/plain": [
       "Generate report structure:   0%|          | 0/1 [00:00<?, ?it/s]"
      ]
     },
     "metadata": {},
     "output_type": "display_data"
    },
    {
     "data": {
      "application/vnd.jupyter.widget-view+json": {
       "model_id": "196d05f6de8446f184ede8adf0d87587",
       "version_major": 2,
       "version_minor": 0
      },
      "text/plain": [
       "Render HTML:   0%|          | 0/1 [00:00<?, ?it/s]"
      ]
     },
     "metadata": {},
     "output_type": "display_data"
    },
    {
     "data": {
      "application/vnd.jupyter.widget-view+json": {
       "model_id": "f06c43327b7c459499fc685859ba2f2c",
       "version_major": 2,
       "version_minor": 0
      },
      "text/plain": [
       "Export report to file:   0%|          | 0/1 [00:00<?, ?it/s]"
      ]
     },
     "metadata": {},
     "output_type": "display_data"
    }
   ],
   "source": [
    "profile = pp.ProfileReport(data)\n",
    "profile.to_file(\"US_data.html\")"
   ]
  },
  {
   "cell_type": "code",
   "execution_count": null,
   "id": "76f2b99f",
   "metadata": {},
   "outputs": [],
   "source": []
  }
 ],
 "metadata": {
  "kernelspec": {
   "display_name": "Python 3",
   "language": "python",
   "name": "python3"
  },
  "language_info": {
   "codemirror_mode": {
    "name": "ipython",
    "version": 3
   },
   "file_extension": ".py",
   "mimetype": "text/x-python",
   "name": "python",
   "nbconvert_exporter": "python",
   "pygments_lexer": "ipython3",
   "version": "3.9.4"
  }
 },
 "nbformat": 4,
 "nbformat_minor": 5
}
